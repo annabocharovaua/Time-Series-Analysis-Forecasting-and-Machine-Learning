{
  "nbformat": 4,
  "nbformat_minor": 0,
  "metadata": {
    "colab": {
      "provenance": [],
      "authorship_tag": "ABX9TyOIXk6gL/8saPjpDuMh5iPf",
      "include_colab_link": true
    },
    "kernelspec": {
      "name": "python3",
      "display_name": "Python 3"
    },
    "language_info": {
      "name": "python"
    }
  },
  "cells": [
    {
      "cell_type": "markdown",
      "metadata": {
        "id": "view-in-github",
        "colab_type": "text"
      },
      "source": [
        "<a href=\"https://colab.research.google.com/github/annabocharovaua/Time-Series-Analysis-Forecasting-and-Machine-Learning/blob/main/Walk_Forward_Validation.ipynb\" target=\"_parent\"><img src=\"https://colab.research.google.com/assets/colab-badge.svg\" alt=\"Open In Colab\"/></a>"
      ]
    },
    {
      "cell_type": "code",
      "execution_count": 106,
      "metadata": {
        "colab": {
          "base_uri": "https://localhost:8080/"
        },
        "id": "bnxFPboZw_uW",
        "outputId": "fba3774d-6544-49ca-c308-13e22df405bf"
      },
      "outputs": [
        {
          "output_type": "stream",
          "name": "stdout",
          "text": [
            "File ‘airline_passengers.csv’ already there; not retrieving.\n",
            "\n"
          ]
        }
      ],
      "source": [
        "!wget -nc https://lazyprogrammer.me/course_files/airline_passengers.csv"
      ]
    },
    {
      "cell_type": "code",
      "source": [
        "! pip install -U statsmodel"
      ],
      "metadata": {
        "colab": {
          "base_uri": "https://localhost:8080/"
        },
        "id": "pH62yR3xxVaz",
        "outputId": "7a5c8b6f-d548-4308-916d-468341d1050d"
      },
      "execution_count": 107,
      "outputs": [
        {
          "output_type": "stream",
          "name": "stdout",
          "text": [
            "Looking in indexes: https://pypi.org/simple, https://us-python.pkg.dev/colab-wheels/public/simple/\n",
            "\u001b[31mERROR: Could not find a version that satisfies the requirement statsmodel (from versions: none)\u001b[0m\u001b[31m\n",
            "\u001b[0m\u001b[31mERROR: No matching distribution found for statsmodel\u001b[0m\u001b[31m\n",
            "\u001b[0m"
          ]
        }
      ]
    },
    {
      "cell_type": "code",
      "source": [
        "import pandas as pd\n",
        "import numpy as np\n",
        "import matplotlib.pyplot as plt\n",
        "\n",
        "import itertools\n",
        "\n",
        "from sklearn.metrics import mean_squared_error\n",
        "from statsmodels.tsa.holtwinters import ExponentialSmoothing "
      ],
      "metadata": {
        "id": "pi0eIW1uxY4t"
      },
      "execution_count": 108,
      "outputs": []
    },
    {
      "cell_type": "code",
      "source": [
        "df = pd.read_csv('airline_passengers.csv', index_col='Month', parse_dates=True)"
      ],
      "metadata": {
        "id": "HOZ7KJQ6x8jl"
      },
      "execution_count": 109,
      "outputs": []
    },
    {
      "cell_type": "code",
      "source": [
        "df.index.freq = 'MS'"
      ],
      "metadata": {
        "id": "x2mijV5eyKc9"
      },
      "execution_count": 110,
      "outputs": []
    },
    {
      "cell_type": "code",
      "source": [
        "df.shape"
      ],
      "metadata": {
        "colab": {
          "base_uri": "https://localhost:8080/"
        },
        "id": "r-hzrzSsycFR",
        "outputId": "d67c6f19-68bd-4ed1-9b09-8e1d31f1a43c"
      },
      "execution_count": 111,
      "outputs": [
        {
          "output_type": "execute_result",
          "data": {
            "text/plain": [
              "(144, 1)"
            ]
          },
          "metadata": {},
          "execution_count": 111
        }
      ]
    },
    {
      "cell_type": "code",
      "source": [
        "#Assume the forecast horizon we care about is 12\n",
        "#Validate over 10 steps\n",
        "h = 12 \n",
        "steps = 10 \n",
        "Ntest = len(df) - h - steps + 1"
      ],
      "metadata": {
        "id": "QVYVeppnyfCc"
      },
      "execution_count": 112,
      "outputs": []
    },
    {
      "cell_type": "code",
      "source": [
        "#Configuration hyperparameters to try \n",
        "trend_type_list = ['add','mul']\n",
        "seasonal_type_list = ['add','mul']\n",
        "damped_trend_list = [True, False]\n",
        "init_method_list = ['estimated', 'heuristic', 'legacy-heuristic' ]\n",
        "use_boxcox_list = [True, False, 0]"
      ],
      "metadata": {
        "id": "BqWru6sfymck"
      },
      "execution_count": 113,
      "outputs": []
    },
    {
      "cell_type": "code",
      "source": [
        "def walkforward(\n",
        "    trend_type, \n",
        "    seasonal_type,\n",
        "    damped_trend,\n",
        "    init_method, \n",
        "    use_boxcox, \n",
        "    debug = False) :\n",
        "    #store errors\n",
        "    errors=[]\n",
        "    # використовується для відстеження того, чи був вже останній крок валідації.\n",
        "    seen_last = False\n",
        "    # відстежує кількість виконаних кроків валідації.\n",
        "    steps_completed = 0\n",
        "\n",
        "    for end_of_train in range(Ntest, len(df)-h+1):\n",
        "      #We don`t have to manully \"add\" the data to our dataset\n",
        "      #Just index it t the right points - this is a \"view\" not a \"copy\"\n",
        "      #So it dowsn`t take up any extra space or computation\n",
        "      train = df.iloc[:end_of_train]\n",
        "      test = df.iloc[end_of_train:end_of_train + h]\n",
        "    \n",
        "      if test.index[-1] == df.index[-1]:\n",
        "        seen_last = True\n",
        "      \n",
        "      steps_completed +=1\n",
        "\n",
        "      hw = ExponentialSmoothing(\n",
        "          train['Passengers'],\n",
        "          initialization_method = init_method, \n",
        "          trend = trend_type, \n",
        "          damped_trend = damped_trend, \n",
        "          seasonal = seasonal_type, \n",
        "          seasonal_periods = 12,\n",
        "          use_boxcox = use_boxcox)\n",
        "      res_hw = hw.fit()\n",
        "    \n",
        "      fcast = res_hw.forecast(h)\n",
        "      error = mean_squared_error(test['Passengers'], fcast)\n",
        "      errors.append(error)\n",
        "\n",
        "    if debug:\n",
        "      print(\"seen_last:\", seen_last)\n",
        "      print(\"steps completed: \", steps_completed)\n",
        "\n",
        "    return np.mean(errors)"
      ],
      "metadata": {
        "id": "pSsel-AVACdW"
      },
      "execution_count": 114,
      "outputs": []
    },
    {
      "cell_type": "code",
      "source": [
        "#test our function \n",
        "walkforward('add', 'add', False, 'legacy-heuristic', 0, debug=True)"
      ],
      "metadata": {
        "colab": {
          "base_uri": "https://localhost:8080/"
        },
        "id": "uqkVjaFBCEjH",
        "outputId": "cf86fe44-c692-4864-ba59-49fd61a54cf6"
      },
      "execution_count": 115,
      "outputs": [
        {
          "output_type": "stream",
          "name": "stdout",
          "text": [
            "seen_last: True\n",
            "steps completed:  10\n"
          ]
        },
        {
          "output_type": "execute_result",
          "data": {
            "text/plain": [
              "2521.0271721807176"
            ]
          },
          "metadata": {},
          "execution_count": 115
        }
      ]
    },
    {
      "cell_type": "code",
      "source": [
        "#Iterate through all possible options(i.e. grad search)\n",
        "tuple_of_option_lists = (\n",
        "    trend_type_list,\n",
        "    seasonal_type_list,\n",
        "    damped_trend_list,\n",
        "    init_method_list,\n",
        "    use_boxcox_list\n",
        "    )\n",
        "for x in itertools.product(*tuple_of_option_lists):\n",
        "  print(x)\n",
        "  "
      ],
      "metadata": {
        "colab": {
          "base_uri": "https://localhost:8080/"
        },
        "id": "i6WAJWu_Maaw",
        "outputId": "c4fdcfc0-4adb-443a-930a-30b5ea275510"
      },
      "execution_count": 116,
      "outputs": [
        {
          "output_type": "stream",
          "name": "stdout",
          "text": [
            "('add', 'add', True, 'estimated', True)\n",
            "('add', 'add', True, 'estimated', False)\n",
            "('add', 'add', True, 'estimated', 0)\n",
            "('add', 'add', True, 'heuristic', True)\n",
            "('add', 'add', True, 'heuristic', False)\n",
            "('add', 'add', True, 'heuristic', 0)\n",
            "('add', 'add', True, 'legacy-heuristic', True)\n",
            "('add', 'add', True, 'legacy-heuristic', False)\n",
            "('add', 'add', True, 'legacy-heuristic', 0)\n",
            "('add', 'add', False, 'estimated', True)\n",
            "('add', 'add', False, 'estimated', False)\n",
            "('add', 'add', False, 'estimated', 0)\n",
            "('add', 'add', False, 'heuristic', True)\n",
            "('add', 'add', False, 'heuristic', False)\n",
            "('add', 'add', False, 'heuristic', 0)\n",
            "('add', 'add', False, 'legacy-heuristic', True)\n",
            "('add', 'add', False, 'legacy-heuristic', False)\n",
            "('add', 'add', False, 'legacy-heuristic', 0)\n",
            "('add', 'mul', True, 'estimated', True)\n",
            "('add', 'mul', True, 'estimated', False)\n",
            "('add', 'mul', True, 'estimated', 0)\n",
            "('add', 'mul', True, 'heuristic', True)\n",
            "('add', 'mul', True, 'heuristic', False)\n",
            "('add', 'mul', True, 'heuristic', 0)\n",
            "('add', 'mul', True, 'legacy-heuristic', True)\n",
            "('add', 'mul', True, 'legacy-heuristic', False)\n",
            "('add', 'mul', True, 'legacy-heuristic', 0)\n",
            "('add', 'mul', False, 'estimated', True)\n",
            "('add', 'mul', False, 'estimated', False)\n",
            "('add', 'mul', False, 'estimated', 0)\n",
            "('add', 'mul', False, 'heuristic', True)\n",
            "('add', 'mul', False, 'heuristic', False)\n",
            "('add', 'mul', False, 'heuristic', 0)\n",
            "('add', 'mul', False, 'legacy-heuristic', True)\n",
            "('add', 'mul', False, 'legacy-heuristic', False)\n",
            "('add', 'mul', False, 'legacy-heuristic', 0)\n",
            "('mul', 'add', True, 'estimated', True)\n",
            "('mul', 'add', True, 'estimated', False)\n",
            "('mul', 'add', True, 'estimated', 0)\n",
            "('mul', 'add', True, 'heuristic', True)\n",
            "('mul', 'add', True, 'heuristic', False)\n",
            "('mul', 'add', True, 'heuristic', 0)\n",
            "('mul', 'add', True, 'legacy-heuristic', True)\n",
            "('mul', 'add', True, 'legacy-heuristic', False)\n",
            "('mul', 'add', True, 'legacy-heuristic', 0)\n",
            "('mul', 'add', False, 'estimated', True)\n",
            "('mul', 'add', False, 'estimated', False)\n",
            "('mul', 'add', False, 'estimated', 0)\n",
            "('mul', 'add', False, 'heuristic', True)\n",
            "('mul', 'add', False, 'heuristic', False)\n",
            "('mul', 'add', False, 'heuristic', 0)\n",
            "('mul', 'add', False, 'legacy-heuristic', True)\n",
            "('mul', 'add', False, 'legacy-heuristic', False)\n",
            "('mul', 'add', False, 'legacy-heuristic', 0)\n",
            "('mul', 'mul', True, 'estimated', True)\n",
            "('mul', 'mul', True, 'estimated', False)\n",
            "('mul', 'mul', True, 'estimated', 0)\n",
            "('mul', 'mul', True, 'heuristic', True)\n",
            "('mul', 'mul', True, 'heuristic', False)\n",
            "('mul', 'mul', True, 'heuristic', 0)\n",
            "('mul', 'mul', True, 'legacy-heuristic', True)\n",
            "('mul', 'mul', True, 'legacy-heuristic', False)\n",
            "('mul', 'mul', True, 'legacy-heuristic', 0)\n",
            "('mul', 'mul', False, 'estimated', True)\n",
            "('mul', 'mul', False, 'estimated', False)\n",
            "('mul', 'mul', False, 'estimated', 0)\n",
            "('mul', 'mul', False, 'heuristic', True)\n",
            "('mul', 'mul', False, 'heuristic', False)\n",
            "('mul', 'mul', False, 'heuristic', 0)\n",
            "('mul', 'mul', False, 'legacy-heuristic', True)\n",
            "('mul', 'mul', False, 'legacy-heuristic', False)\n",
            "('mul', 'mul', False, 'legacy-heuristic', 0)\n"
          ]
        }
      ]
    },
    {
      "cell_type": "code",
      "source": [
        "best_score = float('inf')\n",
        "best_options = None\n",
        "for x in itertools.product(*tuple_of_option_lists):\n",
        "  score = walkforward(*x)\n",
        "  \n",
        "  if score < best_score:\n",
        "    print(\"Best score so far:\", score)\n",
        "    best_score = score\n",
        "    best_options = x\n"
      ],
      "metadata": {
        "colab": {
          "base_uri": "https://localhost:8080/"
        },
        "id": "_9uD0mfqOt-L",
        "outputId": "229d6da1-8935-434e-cbe3-012b3798e7dc"
      },
      "execution_count": 117,
      "outputs": [
        {
          "output_type": "stream",
          "name": "stdout",
          "text": [
            "Best score so far: 412.8172974447663\n",
            "Best score so far: 412.7068239959499\n",
            "Best score so far: 320.66417039593273\n"
          ]
        },
        {
          "output_type": "stream",
          "name": "stderr",
          "text": [
            "/usr/local/lib/python3.10/dist-packages/statsmodels/tsa/holtwinters/model.py:83: RuntimeWarning: overflow encountered in matmul\n",
            "  return err.T @ err\n",
            "/usr/local/lib/python3.10/dist-packages/statsmodels/tsa/holtwinters/model.py:83: RuntimeWarning: overflow encountered in matmul\n",
            "  return err.T @ err\n",
            "/usr/local/lib/python3.10/dist-packages/statsmodels/tsa/holtwinters/model.py:83: RuntimeWarning: overflow encountered in matmul\n",
            "  return err.T @ err\n",
            "/usr/local/lib/python3.10/dist-packages/statsmodels/tsa/holtwinters/model.py:83: RuntimeWarning: overflow encountered in matmul\n",
            "  return err.T @ err\n",
            "/usr/local/lib/python3.10/dist-packages/statsmodels/tsa/holtwinters/model.py:83: RuntimeWarning: overflow encountered in matmul\n",
            "  return err.T @ err\n",
            "/usr/local/lib/python3.10/dist-packages/statsmodels/tsa/holtwinters/model.py:83: RuntimeWarning: overflow encountered in matmul\n",
            "  return err.T @ err\n",
            "/usr/local/lib/python3.10/dist-packages/statsmodels/tsa/holtwinters/model.py:83: RuntimeWarning: overflow encountered in matmul\n",
            "  return err.T @ err\n",
            "/usr/local/lib/python3.10/dist-packages/statsmodels/tsa/holtwinters/model.py:83: RuntimeWarning: overflow encountered in matmul\n",
            "  return err.T @ err\n",
            "/usr/local/lib/python3.10/dist-packages/statsmodels/tsa/holtwinters/model.py:83: RuntimeWarning: overflow encountered in matmul\n",
            "  return err.T @ err\n",
            "/usr/local/lib/python3.10/dist-packages/statsmodels/tsa/holtwinters/model.py:83: RuntimeWarning: overflow encountered in matmul\n",
            "  return err.T @ err\n",
            "/usr/local/lib/python3.10/dist-packages/statsmodels/tsa/holtwinters/model.py:83: RuntimeWarning: overflow encountered in matmul\n",
            "  return err.T @ err\n",
            "/usr/local/lib/python3.10/dist-packages/statsmodels/tsa/holtwinters/model.py:83: RuntimeWarning: overflow encountered in matmul\n",
            "  return err.T @ err\n",
            "/usr/local/lib/python3.10/dist-packages/statsmodels/tsa/holtwinters/model.py:83: RuntimeWarning: overflow encountered in matmul\n",
            "  return err.T @ err\n",
            "/usr/local/lib/python3.10/dist-packages/statsmodels/tsa/holtwinters/model.py:83: RuntimeWarning: overflow encountered in matmul\n",
            "  return err.T @ err\n",
            "/usr/local/lib/python3.10/dist-packages/statsmodels/tsa/holtwinters/model.py:83: RuntimeWarning: overflow encountered in matmul\n",
            "  return err.T @ err\n",
            "/usr/local/lib/python3.10/dist-packages/statsmodels/tsa/holtwinters/model.py:83: RuntimeWarning: overflow encountered in matmul\n",
            "  return err.T @ err\n",
            "/usr/local/lib/python3.10/dist-packages/statsmodels/tsa/holtwinters/model.py:83: RuntimeWarning: overflow encountered in matmul\n",
            "  return err.T @ err\n",
            "/usr/local/lib/python3.10/dist-packages/statsmodels/tsa/holtwinters/model.py:83: RuntimeWarning: overflow encountered in matmul\n",
            "  return err.T @ err\n",
            "/usr/local/lib/python3.10/dist-packages/statsmodels/tsa/holtwinters/model.py:83: RuntimeWarning: overflow encountered in matmul\n",
            "  return err.T @ err\n",
            "/usr/local/lib/python3.10/dist-packages/statsmodels/tsa/holtwinters/model.py:83: RuntimeWarning: overflow encountered in matmul\n",
            "  return err.T @ err\n",
            "/usr/local/lib/python3.10/dist-packages/statsmodels/tsa/holtwinters/model.py:83: RuntimeWarning: overflow encountered in matmul\n",
            "  return err.T @ err\n",
            "/usr/local/lib/python3.10/dist-packages/statsmodels/tsa/holtwinters/model.py:83: RuntimeWarning: overflow encountered in matmul\n",
            "  return err.T @ err\n",
            "/usr/local/lib/python3.10/dist-packages/statsmodels/tsa/holtwinters/model.py:83: RuntimeWarning: overflow encountered in matmul\n",
            "  return err.T @ err\n",
            "/usr/local/lib/python3.10/dist-packages/statsmodels/tsa/holtwinters/model.py:83: RuntimeWarning: overflow encountered in matmul\n",
            "  return err.T @ err\n",
            "/usr/local/lib/python3.10/dist-packages/statsmodels/tsa/holtwinters/model.py:83: RuntimeWarning: overflow encountered in matmul\n",
            "  return err.T @ err\n",
            "/usr/local/lib/python3.10/dist-packages/statsmodels/tsa/holtwinters/model.py:83: RuntimeWarning: overflow encountered in matmul\n",
            "  return err.T @ err\n",
            "/usr/local/lib/python3.10/dist-packages/statsmodels/tsa/holtwinters/model.py:83: RuntimeWarning: overflow encountered in matmul\n",
            "  return err.T @ err\n",
            "/usr/local/lib/python3.10/dist-packages/statsmodels/tsa/holtwinters/model.py:83: RuntimeWarning: overflow encountered in matmul\n",
            "  return err.T @ err\n",
            "/usr/local/lib/python3.10/dist-packages/statsmodels/tsa/holtwinters/model.py:83: RuntimeWarning: overflow encountered in matmul\n",
            "  return err.T @ err\n"
          ]
        },
        {
          "output_type": "stream",
          "name": "stdout",
          "text": [
            "Best score so far: 305.6593349312611\n"
          ]
        },
        {
          "output_type": "stream",
          "name": "stderr",
          "text": [
            "/usr/local/lib/python3.10/dist-packages/statsmodels/tsa/holtwinters/model.py:83: RuntimeWarning: overflow encountered in matmul\n",
            "  return err.T @ err\n",
            "/usr/local/lib/python3.10/dist-packages/statsmodels/tsa/holtwinters/model.py:83: RuntimeWarning: overflow encountered in matmul\n",
            "  return err.T @ err\n",
            "/usr/local/lib/python3.10/dist-packages/statsmodels/tsa/holtwinters/model.py:83: RuntimeWarning: overflow encountered in matmul\n",
            "  return err.T @ err\n",
            "/usr/local/lib/python3.10/dist-packages/statsmodels/tsa/holtwinters/model.py:83: RuntimeWarning: overflow encountered in matmul\n",
            "  return err.T @ err\n",
            "/usr/local/lib/python3.10/dist-packages/statsmodels/tsa/holtwinters/model.py:83: RuntimeWarning: overflow encountered in matmul\n",
            "  return err.T @ err\n",
            "/usr/local/lib/python3.10/dist-packages/statsmodels/tsa/holtwinters/model.py:83: RuntimeWarning: overflow encountered in matmul\n",
            "  return err.T @ err\n",
            "/usr/local/lib/python3.10/dist-packages/statsmodels/tsa/holtwinters/model.py:83: RuntimeWarning: overflow encountered in matmul\n",
            "  return err.T @ err\n",
            "/usr/local/lib/python3.10/dist-packages/statsmodels/tsa/holtwinters/model.py:83: RuntimeWarning: overflow encountered in matmul\n",
            "  return err.T @ err\n",
            "/usr/local/lib/python3.10/dist-packages/statsmodels/tsa/holtwinters/model.py:83: RuntimeWarning: overflow encountered in matmul\n",
            "  return err.T @ err\n",
            "/usr/local/lib/python3.10/dist-packages/statsmodels/tsa/holtwinters/model.py:83: RuntimeWarning: overflow encountered in matmul\n",
            "  return err.T @ err\n",
            "/usr/local/lib/python3.10/dist-packages/statsmodels/tsa/holtwinters/model.py:83: RuntimeWarning: overflow encountered in matmul\n",
            "  return err.T @ err\n",
            "/usr/local/lib/python3.10/dist-packages/statsmodels/tsa/holtwinters/model.py:83: RuntimeWarning: overflow encountered in matmul\n",
            "  return err.T @ err\n",
            "/usr/local/lib/python3.10/dist-packages/statsmodels/tsa/holtwinters/model.py:83: RuntimeWarning: overflow encountered in matmul\n",
            "  return err.T @ err\n",
            "/usr/local/lib/python3.10/dist-packages/statsmodels/tsa/holtwinters/model.py:83: RuntimeWarning: overflow encountered in matmul\n",
            "  return err.T @ err\n",
            "/usr/local/lib/python3.10/dist-packages/statsmodels/tsa/holtwinters/model.py:83: RuntimeWarning: overflow encountered in matmul\n",
            "  return err.T @ err\n",
            "/usr/local/lib/python3.10/dist-packages/statsmodels/tsa/holtwinters/model.py:83: RuntimeWarning: overflow encountered in matmul\n",
            "  return err.T @ err\n",
            "/usr/local/lib/python3.10/dist-packages/statsmodels/tsa/holtwinters/model.py:83: RuntimeWarning: overflow encountered in matmul\n",
            "  return err.T @ err\n",
            "/usr/local/lib/python3.10/dist-packages/statsmodels/tsa/holtwinters/model.py:83: RuntimeWarning: overflow encountered in matmul\n",
            "  return err.T @ err\n",
            "/usr/local/lib/python3.10/dist-packages/statsmodels/tsa/holtwinters/model.py:83: RuntimeWarning: overflow encountered in matmul\n",
            "  return err.T @ err\n",
            "/usr/local/lib/python3.10/dist-packages/statsmodels/tsa/holtwinters/model.py:83: RuntimeWarning: overflow encountered in matmul\n",
            "  return err.T @ err\n",
            "/usr/local/lib/python3.10/dist-packages/statsmodels/tsa/holtwinters/model.py:83: RuntimeWarning: overflow encountered in matmul\n",
            "  return err.T @ err\n",
            "/usr/local/lib/python3.10/dist-packages/statsmodels/tsa/holtwinters/model.py:83: RuntimeWarning: overflow encountered in matmul\n",
            "  return err.T @ err\n",
            "/usr/local/lib/python3.10/dist-packages/statsmodels/tsa/holtwinters/model.py:83: RuntimeWarning: overflow encountered in matmul\n",
            "  return err.T @ err\n",
            "/usr/local/lib/python3.10/dist-packages/statsmodels/tsa/holtwinters/model.py:83: RuntimeWarning: overflow encountered in matmul\n",
            "  return err.T @ err\n",
            "/usr/local/lib/python3.10/dist-packages/statsmodels/tsa/holtwinters/model.py:83: RuntimeWarning: overflow encountered in matmul\n",
            "  return err.T @ err\n",
            "/usr/local/lib/python3.10/dist-packages/statsmodels/tsa/holtwinters/model.py:83: RuntimeWarning: overflow encountered in matmul\n",
            "  return err.T @ err\n",
            "/usr/local/lib/python3.10/dist-packages/statsmodels/tsa/holtwinters/model.py:83: RuntimeWarning: overflow encountered in matmul\n",
            "  return err.T @ err\n",
            "/usr/local/lib/python3.10/dist-packages/statsmodels/tsa/holtwinters/model.py:83: RuntimeWarning: overflow encountered in matmul\n",
            "  return err.T @ err\n",
            "/usr/local/lib/python3.10/dist-packages/statsmodels/tsa/holtwinters/model.py:83: RuntimeWarning: overflow encountered in matmul\n",
            "  return err.T @ err\n",
            "/usr/local/lib/python3.10/dist-packages/statsmodels/tsa/holtwinters/model.py:83: RuntimeWarning: overflow encountered in matmul\n",
            "  return err.T @ err\n",
            "/usr/local/lib/python3.10/dist-packages/statsmodels/tsa/holtwinters/model.py:83: RuntimeWarning: overflow encountered in matmul\n",
            "  return err.T @ err\n",
            "/usr/local/lib/python3.10/dist-packages/statsmodels/tsa/holtwinters/model.py:83: RuntimeWarning: overflow encountered in matmul\n",
            "  return err.T @ err\n",
            "/usr/local/lib/python3.10/dist-packages/statsmodels/tsa/holtwinters/model.py:83: RuntimeWarning: overflow encountered in matmul\n",
            "  return err.T @ err\n",
            "/usr/local/lib/python3.10/dist-packages/statsmodels/tsa/holtwinters/model.py:83: RuntimeWarning: overflow encountered in matmul\n",
            "  return err.T @ err\n",
            "/usr/local/lib/python3.10/dist-packages/statsmodels/tsa/holtwinters/model.py:83: RuntimeWarning: overflow encountered in matmul\n",
            "  return err.T @ err\n",
            "/usr/local/lib/python3.10/dist-packages/statsmodels/tsa/holtwinters/model.py:83: RuntimeWarning: overflow encountered in matmul\n",
            "  return err.T @ err\n",
            "/usr/local/lib/python3.10/dist-packages/statsmodels/tsa/holtwinters/model.py:83: RuntimeWarning: overflow encountered in matmul\n",
            "  return err.T @ err\n",
            "/usr/local/lib/python3.10/dist-packages/statsmodels/tsa/holtwinters/model.py:83: RuntimeWarning: overflow encountered in matmul\n",
            "  return err.T @ err\n",
            "/usr/local/lib/python3.10/dist-packages/statsmodels/tsa/holtwinters/model.py:83: RuntimeWarning: overflow encountered in matmul\n",
            "  return err.T @ err\n",
            "/usr/local/lib/python3.10/dist-packages/statsmodels/tsa/holtwinters/model.py:83: RuntimeWarning: overflow encountered in matmul\n",
            "  return err.T @ err\n",
            "/usr/local/lib/python3.10/dist-packages/statsmodels/tsa/holtwinters/model.py:83: RuntimeWarning: overflow encountered in matmul\n",
            "  return err.T @ err\n",
            "/usr/local/lib/python3.10/dist-packages/statsmodels/tsa/holtwinters/model.py:83: RuntimeWarning: overflow encountered in matmul\n",
            "  return err.T @ err\n",
            "/usr/local/lib/python3.10/dist-packages/statsmodels/tsa/holtwinters/model.py:83: RuntimeWarning: overflow encountered in matmul\n",
            "  return err.T @ err\n",
            "/usr/local/lib/python3.10/dist-packages/statsmodels/tsa/holtwinters/model.py:83: RuntimeWarning: overflow encountered in matmul\n",
            "  return err.T @ err\n",
            "/usr/local/lib/python3.10/dist-packages/statsmodels/tsa/holtwinters/model.py:83: RuntimeWarning: overflow encountered in matmul\n",
            "  return err.T @ err\n",
            "/usr/local/lib/python3.10/dist-packages/statsmodels/tsa/holtwinters/model.py:83: RuntimeWarning: overflow encountered in matmul\n",
            "  return err.T @ err\n",
            "/usr/local/lib/python3.10/dist-packages/statsmodels/tsa/holtwinters/model.py:83: RuntimeWarning: overflow encountered in matmul\n",
            "  return err.T @ err\n"
          ]
        },
        {
          "output_type": "stream",
          "name": "stdout",
          "text": [
            "Best score so far: 289.70138073245846\n"
          ]
        },
        {
          "output_type": "stream",
          "name": "stderr",
          "text": [
            "/usr/local/lib/python3.10/dist-packages/statsmodels/tsa/holtwinters/model.py:83: RuntimeWarning: overflow encountered in matmul\n",
            "  return err.T @ err\n",
            "/usr/local/lib/python3.10/dist-packages/statsmodels/tsa/holtwinters/model.py:83: RuntimeWarning: overflow encountered in matmul\n",
            "  return err.T @ err\n",
            "/usr/local/lib/python3.10/dist-packages/statsmodels/tsa/holtwinters/model.py:83: RuntimeWarning: overflow encountered in matmul\n",
            "  return err.T @ err\n",
            "/usr/local/lib/python3.10/dist-packages/statsmodels/tsa/holtwinters/model.py:83: RuntimeWarning: overflow encountered in matmul\n",
            "  return err.T @ err\n",
            "/usr/local/lib/python3.10/dist-packages/statsmodels/tsa/holtwinters/model.py:83: RuntimeWarning: overflow encountered in matmul\n",
            "  return err.T @ err\n",
            "/usr/local/lib/python3.10/dist-packages/statsmodels/tsa/holtwinters/model.py:83: RuntimeWarning: overflow encountered in matmul\n",
            "  return err.T @ err\n",
            "/usr/local/lib/python3.10/dist-packages/statsmodels/tsa/holtwinters/model.py:83: RuntimeWarning: overflow encountered in matmul\n",
            "  return err.T @ err\n",
            "/usr/local/lib/python3.10/dist-packages/statsmodels/tsa/holtwinters/model.py:83: RuntimeWarning: overflow encountered in matmul\n",
            "  return err.T @ err\n",
            "/usr/local/lib/python3.10/dist-packages/statsmodels/tsa/holtwinters/model.py:83: RuntimeWarning: overflow encountered in matmul\n",
            "  return err.T @ err\n",
            "/usr/local/lib/python3.10/dist-packages/statsmodels/tsa/holtwinters/model.py:83: RuntimeWarning: overflow encountered in matmul\n",
            "  return err.T @ err\n",
            "/usr/local/lib/python3.10/dist-packages/statsmodels/tsa/holtwinters/model.py:83: RuntimeWarning: overflow encountered in matmul\n",
            "  return err.T @ err\n",
            "/usr/local/lib/python3.10/dist-packages/statsmodels/tsa/holtwinters/model.py:83: RuntimeWarning: overflow encountered in matmul\n",
            "  return err.T @ err\n",
            "/usr/local/lib/python3.10/dist-packages/statsmodels/tsa/holtwinters/model.py:83: RuntimeWarning: overflow encountered in matmul\n",
            "  return err.T @ err\n",
            "/usr/local/lib/python3.10/dist-packages/statsmodels/tsa/holtwinters/model.py:83: RuntimeWarning: overflow encountered in matmul\n",
            "  return err.T @ err\n",
            "/usr/local/lib/python3.10/dist-packages/statsmodels/tsa/holtwinters/model.py:83: RuntimeWarning: overflow encountered in matmul\n",
            "  return err.T @ err\n",
            "/usr/local/lib/python3.10/dist-packages/statsmodels/tsa/holtwinters/model.py:83: RuntimeWarning: overflow encountered in matmul\n",
            "  return err.T @ err\n",
            "/usr/local/lib/python3.10/dist-packages/statsmodels/tsa/holtwinters/model.py:83: RuntimeWarning: overflow encountered in matmul\n",
            "  return err.T @ err\n",
            "/usr/local/lib/python3.10/dist-packages/statsmodels/tsa/holtwinters/model.py:83: RuntimeWarning: overflow encountered in matmul\n",
            "  return err.T @ err\n",
            "/usr/local/lib/python3.10/dist-packages/statsmodels/tsa/holtwinters/model.py:83: RuntimeWarning: overflow encountered in matmul\n",
            "  return err.T @ err\n",
            "/usr/local/lib/python3.10/dist-packages/statsmodels/tsa/holtwinters/model.py:83: RuntimeWarning: overflow encountered in matmul\n",
            "  return err.T @ err\n",
            "/usr/local/lib/python3.10/dist-packages/statsmodels/tsa/holtwinters/model.py:83: RuntimeWarning: overflow encountered in matmul\n",
            "  return err.T @ err\n",
            "/usr/local/lib/python3.10/dist-packages/statsmodels/tsa/holtwinters/model.py:83: RuntimeWarning: overflow encountered in matmul\n",
            "  return err.T @ err\n",
            "/usr/local/lib/python3.10/dist-packages/statsmodels/tsa/holtwinters/model.py:83: RuntimeWarning: overflow encountered in matmul\n",
            "  return err.T @ err\n",
            "/usr/local/lib/python3.10/dist-packages/statsmodels/tsa/holtwinters/model.py:83: RuntimeWarning: overflow encountered in matmul\n",
            "  return err.T @ err\n",
            "/usr/local/lib/python3.10/dist-packages/statsmodels/tsa/holtwinters/model.py:83: RuntimeWarning: overflow encountered in matmul\n",
            "  return err.T @ err\n",
            "/usr/local/lib/python3.10/dist-packages/statsmodels/tsa/holtwinters/model.py:83: RuntimeWarning: overflow encountered in matmul\n",
            "  return err.T @ err\n",
            "/usr/local/lib/python3.10/dist-packages/statsmodels/tsa/holtwinters/model.py:83: RuntimeWarning: overflow encountered in matmul\n",
            "  return err.T @ err\n",
            "/usr/local/lib/python3.10/dist-packages/statsmodels/tsa/holtwinters/model.py:83: RuntimeWarning: overflow encountered in matmul\n",
            "  return err.T @ err\n",
            "/usr/local/lib/python3.10/dist-packages/statsmodels/tsa/holtwinters/model.py:83: RuntimeWarning: overflow encountered in matmul\n",
            "  return err.T @ err\n",
            "/usr/local/lib/python3.10/dist-packages/statsmodels/tsa/holtwinters/model.py:83: RuntimeWarning: overflow encountered in matmul\n",
            "  return err.T @ err\n",
            "/usr/local/lib/python3.10/dist-packages/statsmodels/tsa/holtwinters/model.py:83: RuntimeWarning: overflow encountered in matmul\n",
            "  return err.T @ err\n"
          ]
        }
      ]
    },
    {
      "cell_type": "code",
      "source": [
        "print('best_score:', best_score)"
      ],
      "metadata": {
        "colab": {
          "base_uri": "https://localhost:8080/"
        },
        "id": "toxsO-SJRp1f",
        "outputId": "7b8da844-c03c-4975-fb21-b7891030e44c"
      },
      "execution_count": 118,
      "outputs": [
        {
          "output_type": "stream",
          "name": "stdout",
          "text": [
            "best_score: 289.70138073245846\n"
          ]
        }
      ]
    },
    {
      "cell_type": "code",
      "source": [
        "trend_type, seasonal_type, damped_trend, init_method, use_boxcox = best_options\n",
        "print(\"trend_type\", trend_type)\n",
        "print(\"seasonal_type\", seasonal_type)\n",
        "print(\"damped_trend\", damped_trend)\n",
        "print(\"init_method\", init_method)\n",
        "print(\"use_boxcox\", use_boxcox)"
      ],
      "metadata": {
        "colab": {
          "base_uri": "https://localhost:8080/"
        },
        "id": "r3V7OSKgRzUZ",
        "outputId": "9584d9ab-db5b-471e-995f-c854f82680a6"
      },
      "execution_count": 119,
      "outputs": [
        {
          "output_type": "stream",
          "name": "stdout",
          "text": [
            "trend_type mul\n",
            "seasonal_type mul\n",
            "damped_trend True\n",
            "init_method legacy-heuristic\n",
            "use_boxcox False\n"
          ]
        }
      ]
    }
  ]
}