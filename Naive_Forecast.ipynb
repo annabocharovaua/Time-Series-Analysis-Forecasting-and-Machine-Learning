{
  "nbformat": 4,
  "nbformat_minor": 0,
  "metadata": {
    "colab": {
      "provenance": [],
      "authorship_tag": "ABX9TyMUEnf4/KgjFNtcHg10gEwq",
      "include_colab_link": true
    },
    "kernelspec": {
      "name": "python3",
      "display_name": "Python 3"
    },
    "language_info": {
      "name": "python"
    }
  },
  "cells": [
    {
      "cell_type": "markdown",
      "metadata": {
        "id": "view-in-github",
        "colab_type": "text"
      },
      "source": [
        "<a href=\"https://colab.research.google.com/github/annabocharovaua/Time-Series-Analysis-Forecasting-and-Machine-Learning/blob/main/Naive_Forecast.ipynb\" target=\"_parent\"><img src=\"https://colab.research.google.com/assets/colab-badge.svg\" alt=\"Open In Colab\"/></a>"
      ]
    },
    {
      "cell_type": "code",
      "execution_count": null,
      "metadata": {
        "id": "yFoaU8iaQwc4"
      },
      "outputs": [],
      "source": [
        "import numpy as np\n",
        "import pandas as pd"
      ]
    },
    {
      "cell_type": "code",
      "source": [
        "!pip install -U scikit-learn"
      ],
      "metadata": {
        "colab": {
          "base_uri": "https://localhost:8080/"
        },
        "id": "dP7cyxB0RLQc",
        "outputId": "a537bbd2-080c-420d-d9fc-55027098e355"
      },
      "execution_count": null,
      "outputs": [
        {
          "output_type": "stream",
          "name": "stdout",
          "text": [
            "Looking in indexes: https://pypi.org/simple, https://us-python.pkg.dev/colab-wheels/public/simple/\n",
            "Requirement already satisfied: scikit-learn in /usr/local/lib/python3.10/dist-packages (1.2.2)\n",
            "Requirement already satisfied: numpy>=1.17.3 in /usr/local/lib/python3.10/dist-packages (from scikit-learn) (1.22.4)\n",
            "Requirement already satisfied: scipy>=1.3.2 in /usr/local/lib/python3.10/dist-packages (from scikit-learn) (1.10.1)\n",
            "Requirement already satisfied: joblib>=1.1.1 in /usr/local/lib/python3.10/dist-packages (from scikit-learn) (1.2.0)\n",
            "Requirement already satisfied: threadpoolctl>=2.0.0 in /usr/local/lib/python3.10/dist-packages (from scikit-learn) (3.1.0)\n"
          ]
        }
      ]
    },
    {
      "cell_type": "code",
      "source": [
        "from sklearn.metrics import mean_absolute_percentage_error, \\\n",
        "mean_absolute_error, r2_score, mean_squared_error"
      ],
      "metadata": {
        "id": "PbMuq7WjSRYP"
      },
      "execution_count": null,
      "outputs": []
    },
    {
      "cell_type": "code",
      "source": [
        "!wget -nc https://lazyprogrammer.me/course_files/SPY.csv"
      ],
      "metadata": {
        "colab": {
          "base_uri": "https://localhost:8080/"
        },
        "id": "2x15meVWS9y7",
        "outputId": "390b6f54-cd67-4a45-cd30-056044241936"
      },
      "execution_count": null,
      "outputs": [
        {
          "output_type": "stream",
          "name": "stdout",
          "text": [
            "--2023-05-16 18:53:25--  https://lazyprogrammer.me/course_files/SPY.csv\n",
            "Resolving lazyprogrammer.me (lazyprogrammer.me)... 104.21.23.210, 172.67.213.166, 2606:4700:3031::6815:17d2, ...\n",
            "Connecting to lazyprogrammer.me (lazyprogrammer.me)|104.21.23.210|:443... connected.\n",
            "HTTP request sent, awaiting response... 200 OK\n",
            "Length: 251935 (246K) [text/csv]\n",
            "Saving to: ‘SPY.csv’\n",
            "\n",
            "SPY.csv             100%[===================>] 246.03K  --.-KB/s    in 0.1s    \n",
            "\n",
            "2023-05-16 18:53:26 (1.67 MB/s) - ‘SPY.csv’ saved [251935/251935]\n",
            "\n"
          ]
        }
      ]
    },
    {
      "cell_type": "code",
      "source": [
        "df = pd.read_csv('SPY.csv', index_col = 'Date', parse_dates = True)"
      ],
      "metadata": {
        "id": "LkiT39fTT3be"
      },
      "execution_count": null,
      "outputs": []
    },
    {
      "cell_type": "code",
      "source": [
        "df.head()"
      ],
      "metadata": {
        "colab": {
          "base_uri": "https://localhost:8080/",
          "height": 237
        },
        "id": "Z0n2YRj6UJ2g",
        "outputId": "b78138de-ff99-474d-8d59-844ad5f7fb0b"
      },
      "execution_count": null,
      "outputs": [
        {
          "output_type": "execute_result",
          "data": {
            "text/plain": [
              "                  Open        High         Low       Close  Adj Close  \\\n",
              "Date                                                                    \n",
              "2010-01-04  112.370003  113.389999  111.510002  113.330002  92.246048   \n",
              "2010-01-05  113.260002  113.680000  112.849998  113.629997  92.490204   \n",
              "2010-01-06  113.519997  113.989998  113.430000  113.709999  92.555328   \n",
              "2010-01-07  113.500000  114.330002  113.180000  114.190002  92.946060   \n",
              "2010-01-08  113.889999  114.620003  113.660004  114.570000  93.255348   \n",
              "\n",
              "               Volume  \n",
              "Date                   \n",
              "2010-01-04  118944600  \n",
              "2010-01-05  111579900  \n",
              "2010-01-06  116074400  \n",
              "2010-01-07  131091100  \n",
              "2010-01-08  126402800  "
            ],
            "text/html": [
              "\n",
              "  <div id=\"df-141b37c5-75c4-47c4-b3c6-efda12fe69f6\">\n",
              "    <div class=\"colab-df-container\">\n",
              "      <div>\n",
              "<style scoped>\n",
              "    .dataframe tbody tr th:only-of-type {\n",
              "        vertical-align: middle;\n",
              "    }\n",
              "\n",
              "    .dataframe tbody tr th {\n",
              "        vertical-align: top;\n",
              "    }\n",
              "\n",
              "    .dataframe thead th {\n",
              "        text-align: right;\n",
              "    }\n",
              "</style>\n",
              "<table border=\"1\" class=\"dataframe\">\n",
              "  <thead>\n",
              "    <tr style=\"text-align: right;\">\n",
              "      <th></th>\n",
              "      <th>Open</th>\n",
              "      <th>High</th>\n",
              "      <th>Low</th>\n",
              "      <th>Close</th>\n",
              "      <th>Adj Close</th>\n",
              "      <th>Volume</th>\n",
              "    </tr>\n",
              "    <tr>\n",
              "      <th>Date</th>\n",
              "      <th></th>\n",
              "      <th></th>\n",
              "      <th></th>\n",
              "      <th></th>\n",
              "      <th></th>\n",
              "      <th></th>\n",
              "    </tr>\n",
              "  </thead>\n",
              "  <tbody>\n",
              "    <tr>\n",
              "      <th>2010-01-04</th>\n",
              "      <td>112.370003</td>\n",
              "      <td>113.389999</td>\n",
              "      <td>111.510002</td>\n",
              "      <td>113.330002</td>\n",
              "      <td>92.246048</td>\n",
              "      <td>118944600</td>\n",
              "    </tr>\n",
              "    <tr>\n",
              "      <th>2010-01-05</th>\n",
              "      <td>113.260002</td>\n",
              "      <td>113.680000</td>\n",
              "      <td>112.849998</td>\n",
              "      <td>113.629997</td>\n",
              "      <td>92.490204</td>\n",
              "      <td>111579900</td>\n",
              "    </tr>\n",
              "    <tr>\n",
              "      <th>2010-01-06</th>\n",
              "      <td>113.519997</td>\n",
              "      <td>113.989998</td>\n",
              "      <td>113.430000</td>\n",
              "      <td>113.709999</td>\n",
              "      <td>92.555328</td>\n",
              "      <td>116074400</td>\n",
              "    </tr>\n",
              "    <tr>\n",
              "      <th>2010-01-07</th>\n",
              "      <td>113.500000</td>\n",
              "      <td>114.330002</td>\n",
              "      <td>113.180000</td>\n",
              "      <td>114.190002</td>\n",
              "      <td>92.946060</td>\n",
              "      <td>131091100</td>\n",
              "    </tr>\n",
              "    <tr>\n",
              "      <th>2010-01-08</th>\n",
              "      <td>113.889999</td>\n",
              "      <td>114.620003</td>\n",
              "      <td>113.660004</td>\n",
              "      <td>114.570000</td>\n",
              "      <td>93.255348</td>\n",
              "      <td>126402800</td>\n",
              "    </tr>\n",
              "  </tbody>\n",
              "</table>\n",
              "</div>\n",
              "      <button class=\"colab-df-convert\" onclick=\"convertToInteractive('df-141b37c5-75c4-47c4-b3c6-efda12fe69f6')\"\n",
              "              title=\"Convert this dataframe to an interactive table.\"\n",
              "              style=\"display:none;\">\n",
              "        \n",
              "  <svg xmlns=\"http://www.w3.org/2000/svg\" height=\"24px\"viewBox=\"0 0 24 24\"\n",
              "       width=\"24px\">\n",
              "    <path d=\"M0 0h24v24H0V0z\" fill=\"none\"/>\n",
              "    <path d=\"M18.56 5.44l.94 2.06.94-2.06 2.06-.94-2.06-.94-.94-2.06-.94 2.06-2.06.94zm-11 1L8.5 8.5l.94-2.06 2.06-.94-2.06-.94L8.5 2.5l-.94 2.06-2.06.94zm10 10l.94 2.06.94-2.06 2.06-.94-2.06-.94-.94-2.06-.94 2.06-2.06.94z\"/><path d=\"M17.41 7.96l-1.37-1.37c-.4-.4-.92-.59-1.43-.59-.52 0-1.04.2-1.43.59L10.3 9.45l-7.72 7.72c-.78.78-.78 2.05 0 2.83L4 21.41c.39.39.9.59 1.41.59.51 0 1.02-.2 1.41-.59l7.78-7.78 2.81-2.81c.8-.78.8-2.07 0-2.86zM5.41 20L4 18.59l7.72-7.72 1.47 1.35L5.41 20z\"/>\n",
              "  </svg>\n",
              "      </button>\n",
              "      \n",
              "  <style>\n",
              "    .colab-df-container {\n",
              "      display:flex;\n",
              "      flex-wrap:wrap;\n",
              "      gap: 12px;\n",
              "    }\n",
              "\n",
              "    .colab-df-convert {\n",
              "      background-color: #E8F0FE;\n",
              "      border: none;\n",
              "      border-radius: 50%;\n",
              "      cursor: pointer;\n",
              "      display: none;\n",
              "      fill: #1967D2;\n",
              "      height: 32px;\n",
              "      padding: 0 0 0 0;\n",
              "      width: 32px;\n",
              "    }\n",
              "\n",
              "    .colab-df-convert:hover {\n",
              "      background-color: #E2EBFA;\n",
              "      box-shadow: 0px 1px 2px rgba(60, 64, 67, 0.3), 0px 1px 3px 1px rgba(60, 64, 67, 0.15);\n",
              "      fill: #174EA6;\n",
              "    }\n",
              "\n",
              "    [theme=dark] .colab-df-convert {\n",
              "      background-color: #3B4455;\n",
              "      fill: #D2E3FC;\n",
              "    }\n",
              "\n",
              "    [theme=dark] .colab-df-convert:hover {\n",
              "      background-color: #434B5C;\n",
              "      box-shadow: 0px 1px 3px 1px rgba(0, 0, 0, 0.15);\n",
              "      filter: drop-shadow(0px 1px 2px rgba(0, 0, 0, 0.3));\n",
              "      fill: #FFFFFF;\n",
              "    }\n",
              "  </style>\n",
              "\n",
              "      <script>\n",
              "        const buttonEl =\n",
              "          document.querySelector('#df-141b37c5-75c4-47c4-b3c6-efda12fe69f6 button.colab-df-convert');\n",
              "        buttonEl.style.display =\n",
              "          google.colab.kernel.accessAllowed ? 'block' : 'none';\n",
              "\n",
              "        async function convertToInteractive(key) {\n",
              "          const element = document.querySelector('#df-141b37c5-75c4-47c4-b3c6-efda12fe69f6');\n",
              "          const dataTable =\n",
              "            await google.colab.kernel.invokeFunction('convertToInteractive',\n",
              "                                                     [key], {});\n",
              "          if (!dataTable) return;\n",
              "\n",
              "          const docLinkHtml = 'Like what you see? Visit the ' +\n",
              "            '<a target=\"_blank\" href=https://colab.research.google.com/notebooks/data_table.ipynb>data table notebook</a>'\n",
              "            + ' to learn more about interactive tables.';\n",
              "          element.innerHTML = '';\n",
              "          dataTable['output_type'] = 'display_data';\n",
              "          await google.colab.output.renderOutput(dataTable, element);\n",
              "          const docLink = document.createElement('div');\n",
              "          docLink.innerHTML = docLinkHtml;\n",
              "          element.appendChild(docLink);\n",
              "        }\n",
              "      </script>\n",
              "    </div>\n",
              "  </div>\n",
              "  "
            ]
          },
          "metadata": {},
          "execution_count": 7
        }
      ]
    },
    {
      "cell_type": "code",
      "source": [
        "df['ClosePrediction'] = df['Close'].shift(1)"
      ],
      "metadata": {
        "id": "r8sKC3tNUOd6"
      },
      "execution_count": null,
      "outputs": []
    },
    {
      "cell_type": "code",
      "source": [
        "df.head()"
      ],
      "metadata": {
        "colab": {
          "base_uri": "https://localhost:8080/",
          "height": 237
        },
        "id": "d7gEB9XIUZwj",
        "outputId": "2707b4da-462a-43bf-dd40-efc9d4c0d1b4"
      },
      "execution_count": null,
      "outputs": [
        {
          "output_type": "execute_result",
          "data": {
            "text/plain": [
              "                  Open        High         Low       Close  Adj Close  \\\n",
              "Date                                                                    \n",
              "2010-01-04  112.370003  113.389999  111.510002  113.330002  92.246048   \n",
              "2010-01-05  113.260002  113.680000  112.849998  113.629997  92.490204   \n",
              "2010-01-06  113.519997  113.989998  113.430000  113.709999  92.555328   \n",
              "2010-01-07  113.500000  114.330002  113.180000  114.190002  92.946060   \n",
              "2010-01-08  113.889999  114.620003  113.660004  114.570000  93.255348   \n",
              "\n",
              "               Volume  ClosePrediction  \n",
              "Date                                    \n",
              "2010-01-04  118944600              NaN  \n",
              "2010-01-05  111579900       113.330002  \n",
              "2010-01-06  116074400       113.629997  \n",
              "2010-01-07  131091100       113.709999  \n",
              "2010-01-08  126402800       114.190002  "
            ],
            "text/html": [
              "\n",
              "  <div id=\"df-69441747-9903-4468-8693-9899ce16404f\">\n",
              "    <div class=\"colab-df-container\">\n",
              "      <div>\n",
              "<style scoped>\n",
              "    .dataframe tbody tr th:only-of-type {\n",
              "        vertical-align: middle;\n",
              "    }\n",
              "\n",
              "    .dataframe tbody tr th {\n",
              "        vertical-align: top;\n",
              "    }\n",
              "\n",
              "    .dataframe thead th {\n",
              "        text-align: right;\n",
              "    }\n",
              "</style>\n",
              "<table border=\"1\" class=\"dataframe\">\n",
              "  <thead>\n",
              "    <tr style=\"text-align: right;\">\n",
              "      <th></th>\n",
              "      <th>Open</th>\n",
              "      <th>High</th>\n",
              "      <th>Low</th>\n",
              "      <th>Close</th>\n",
              "      <th>Adj Close</th>\n",
              "      <th>Volume</th>\n",
              "      <th>ClosePrediction</th>\n",
              "    </tr>\n",
              "    <tr>\n",
              "      <th>Date</th>\n",
              "      <th></th>\n",
              "      <th></th>\n",
              "      <th></th>\n",
              "      <th></th>\n",
              "      <th></th>\n",
              "      <th></th>\n",
              "      <th></th>\n",
              "    </tr>\n",
              "  </thead>\n",
              "  <tbody>\n",
              "    <tr>\n",
              "      <th>2010-01-04</th>\n",
              "      <td>112.370003</td>\n",
              "      <td>113.389999</td>\n",
              "      <td>111.510002</td>\n",
              "      <td>113.330002</td>\n",
              "      <td>92.246048</td>\n",
              "      <td>118944600</td>\n",
              "      <td>NaN</td>\n",
              "    </tr>\n",
              "    <tr>\n",
              "      <th>2010-01-05</th>\n",
              "      <td>113.260002</td>\n",
              "      <td>113.680000</td>\n",
              "      <td>112.849998</td>\n",
              "      <td>113.629997</td>\n",
              "      <td>92.490204</td>\n",
              "      <td>111579900</td>\n",
              "      <td>113.330002</td>\n",
              "    </tr>\n",
              "    <tr>\n",
              "      <th>2010-01-06</th>\n",
              "      <td>113.519997</td>\n",
              "      <td>113.989998</td>\n",
              "      <td>113.430000</td>\n",
              "      <td>113.709999</td>\n",
              "      <td>92.555328</td>\n",
              "      <td>116074400</td>\n",
              "      <td>113.629997</td>\n",
              "    </tr>\n",
              "    <tr>\n",
              "      <th>2010-01-07</th>\n",
              "      <td>113.500000</td>\n",
              "      <td>114.330002</td>\n",
              "      <td>113.180000</td>\n",
              "      <td>114.190002</td>\n",
              "      <td>92.946060</td>\n",
              "      <td>131091100</td>\n",
              "      <td>113.709999</td>\n",
              "    </tr>\n",
              "    <tr>\n",
              "      <th>2010-01-08</th>\n",
              "      <td>113.889999</td>\n",
              "      <td>114.620003</td>\n",
              "      <td>113.660004</td>\n",
              "      <td>114.570000</td>\n",
              "      <td>93.255348</td>\n",
              "      <td>126402800</td>\n",
              "      <td>114.190002</td>\n",
              "    </tr>\n",
              "  </tbody>\n",
              "</table>\n",
              "</div>\n",
              "      <button class=\"colab-df-convert\" onclick=\"convertToInteractive('df-69441747-9903-4468-8693-9899ce16404f')\"\n",
              "              title=\"Convert this dataframe to an interactive table.\"\n",
              "              style=\"display:none;\">\n",
              "        \n",
              "  <svg xmlns=\"http://www.w3.org/2000/svg\" height=\"24px\"viewBox=\"0 0 24 24\"\n",
              "       width=\"24px\">\n",
              "    <path d=\"M0 0h24v24H0V0z\" fill=\"none\"/>\n",
              "    <path d=\"M18.56 5.44l.94 2.06.94-2.06 2.06-.94-2.06-.94-.94-2.06-.94 2.06-2.06.94zm-11 1L8.5 8.5l.94-2.06 2.06-.94-2.06-.94L8.5 2.5l-.94 2.06-2.06.94zm10 10l.94 2.06.94-2.06 2.06-.94-2.06-.94-.94-2.06-.94 2.06-2.06.94z\"/><path d=\"M17.41 7.96l-1.37-1.37c-.4-.4-.92-.59-1.43-.59-.52 0-1.04.2-1.43.59L10.3 9.45l-7.72 7.72c-.78.78-.78 2.05 0 2.83L4 21.41c.39.39.9.59 1.41.59.51 0 1.02-.2 1.41-.59l7.78-7.78 2.81-2.81c.8-.78.8-2.07 0-2.86zM5.41 20L4 18.59l7.72-7.72 1.47 1.35L5.41 20z\"/>\n",
              "  </svg>\n",
              "      </button>\n",
              "      \n",
              "  <style>\n",
              "    .colab-df-container {\n",
              "      display:flex;\n",
              "      flex-wrap:wrap;\n",
              "      gap: 12px;\n",
              "    }\n",
              "\n",
              "    .colab-df-convert {\n",
              "      background-color: #E8F0FE;\n",
              "      border: none;\n",
              "      border-radius: 50%;\n",
              "      cursor: pointer;\n",
              "      display: none;\n",
              "      fill: #1967D2;\n",
              "      height: 32px;\n",
              "      padding: 0 0 0 0;\n",
              "      width: 32px;\n",
              "    }\n",
              "\n",
              "    .colab-df-convert:hover {\n",
              "      background-color: #E2EBFA;\n",
              "      box-shadow: 0px 1px 2px rgba(60, 64, 67, 0.3), 0px 1px 3px 1px rgba(60, 64, 67, 0.15);\n",
              "      fill: #174EA6;\n",
              "    }\n",
              "\n",
              "    [theme=dark] .colab-df-convert {\n",
              "      background-color: #3B4455;\n",
              "      fill: #D2E3FC;\n",
              "    }\n",
              "\n",
              "    [theme=dark] .colab-df-convert:hover {\n",
              "      background-color: #434B5C;\n",
              "      box-shadow: 0px 1px 3px 1px rgba(0, 0, 0, 0.15);\n",
              "      filter: drop-shadow(0px 1px 2px rgba(0, 0, 0, 0.3));\n",
              "      fill: #FFFFFF;\n",
              "    }\n",
              "  </style>\n",
              "\n",
              "      <script>\n",
              "        const buttonEl =\n",
              "          document.querySelector('#df-69441747-9903-4468-8693-9899ce16404f button.colab-df-convert');\n",
              "        buttonEl.style.display =\n",
              "          google.colab.kernel.accessAllowed ? 'block' : 'none';\n",
              "\n",
              "        async function convertToInteractive(key) {\n",
              "          const element = document.querySelector('#df-69441747-9903-4468-8693-9899ce16404f');\n",
              "          const dataTable =\n",
              "            await google.colab.kernel.invokeFunction('convertToInteractive',\n",
              "                                                     [key], {});\n",
              "          if (!dataTable) return;\n",
              "\n",
              "          const docLinkHtml = 'Like what you see? Visit the ' +\n",
              "            '<a target=\"_blank\" href=https://colab.research.google.com/notebooks/data_table.ipynb>data table notebook</a>'\n",
              "            + ' to learn more about interactive tables.';\n",
              "          element.innerHTML = '';\n",
              "          dataTable['output_type'] = 'display_data';\n",
              "          await google.colab.output.renderOutput(dataTable, element);\n",
              "          const docLink = document.createElement('div');\n",
              "          docLink.innerHTML = docLinkHtml;\n",
              "          element.appendChild(docLink);\n",
              "        }\n",
              "      </script>\n",
              "    </div>\n",
              "  </div>\n",
              "  "
            ]
          },
          "metadata": {},
          "execution_count": 9
        }
      ]
    },
    {
      "cell_type": "code",
      "source": [
        "y_true = df.iloc[1:]['Close']\n",
        "y_pred = df.iloc[1:]['ClosePrediction']"
      ],
      "metadata": {
        "id": "ERjwjyTVWuaM"
      },
      "execution_count": null,
      "outputs": []
    },
    {
      "cell_type": "markdown",
      "source": [
        "# **Metrics**"
      ],
      "metadata": {
        "id": "JWlby-HZ6ws9"
      }
    },
    {
      "cell_type": "code",
      "source": [
        "#SSE\n",
        "(y_true - y_pred).dot(y_true - y_pred) "
      ],
      "metadata": {
        "colab": {
          "base_uri": "https://localhost:8080/"
        },
        "id": "zonECEou61dl",
        "outputId": "2a3257d3-c63d-41b7-82f8-ced6d784b899"
      },
      "execution_count": null,
      "outputs": [
        {
          "output_type": "execute_result",
          "data": {
            "text/plain": [
              "6330.3742894926045"
            ]
          },
          "metadata": {},
          "execution_count": 13
        }
      ]
    },
    {
      "cell_type": "code",
      "source": [
        "#MSE\n",
        "mean_squared_error(y_true, y_pred)"
      ],
      "metadata": {
        "colab": {
          "base_uri": "https://localhost:8080/"
        },
        "id": "-arvVL7X7OP3",
        "outputId": "782f7ca0-fef9-4b3c-8bb7-cfbac00c0b68"
      },
      "execution_count": null,
      "outputs": [
        {
          "output_type": "execute_result",
          "data": {
            "text/plain": [
              "2.798573956451196"
            ]
          },
          "metadata": {},
          "execution_count": 15
        }
      ]
    },
    {
      "cell_type": "code",
      "source": [
        "#MSE #2\n",
        "(y_true - y_pred).dot(y_true - y_pred) / len(y_true)"
      ],
      "metadata": {
        "colab": {
          "base_uri": "https://localhost:8080/"
        },
        "id": "vaEPx2P-8lH9",
        "outputId": "4db4c70f-5356-4b38-d563-2603b278e63f"
      },
      "execution_count": null,
      "outputs": [
        {
          "output_type": "execute_result",
          "data": {
            "text/plain": [
              "2.7985739564511958"
            ]
          },
          "metadata": {},
          "execution_count": 17
        }
      ]
    },
    {
      "cell_type": "code",
      "source": [
        "#RMSE\n",
        "mean_squared_error(y_true, y_pred, squared=False)"
      ],
      "metadata": {
        "colab": {
          "base_uri": "https://localhost:8080/"
        },
        "id": "LKtGnMDs9AK1",
        "outputId": "3e551de3-7635-4081-f430-2ac9cfd57b5f"
      },
      "execution_count": null,
      "outputs": [
        {
          "output_type": "execute_result",
          "data": {
            "text/plain": [
              "1.672893886787562"
            ]
          },
          "metadata": {},
          "execution_count": 19
        }
      ]
    },
    {
      "cell_type": "code",
      "source": [
        "#RMSE #2\n",
        "np.sqrt((y_true - y_pred).dot(y_true - y_pred) / len(y_true))"
      ],
      "metadata": {
        "colab": {
          "base_uri": "https://localhost:8080/"
        },
        "id": "54toQTRI9CdX",
        "outputId": "89132701-3f80-4123-cf10-260a7dba55f0"
      },
      "execution_count": null,
      "outputs": [
        {
          "output_type": "execute_result",
          "data": {
            "text/plain": [
              "1.6728938867875618"
            ]
          },
          "metadata": {},
          "execution_count": 21
        }
      ]
    },
    {
      "cell_type": "code",
      "source": [
        "#MAE\n",
        "mean_absolute_error(y_true, y_pred)"
      ],
      "metadata": {
        "colab": {
          "base_uri": "https://localhost:8080/"
        },
        "id": "tjnSk_Qj9RTd",
        "outputId": "29f5588f-2893-4449-f0de-cb2f6b251e4c"
      },
      "execution_count": null,
      "outputs": [
        {
          "output_type": "execute_result",
          "data": {
            "text/plain": [
              "1.1457559803120336"
            ]
          },
          "metadata": {},
          "execution_count": 23
        }
      ]
    },
    {
      "cell_type": "code",
      "source": [
        "# R^2\n",
        "r2_score(y_true, y_pred)"
      ],
      "metadata": {
        "colab": {
          "base_uri": "https://localhost:8080/"
        },
        "id": "ODLGWsSC9aaz",
        "outputId": "b19e3dfb-a674-418d-acc6-c1fed4cded95"
      },
      "execution_count": null,
      "outputs": [
        {
          "output_type": "execute_result",
          "data": {
            "text/plain": [
              "0.9989603259063914"
            ]
          },
          "metadata": {},
          "execution_count": 25
        }
      ]
    },
    {
      "cell_type": "code",
      "source": [
        "#MAPE\n",
        "mean_absolute_percentage_error(y_true, y_pred)"
      ],
      "metadata": {
        "colab": {
          "base_uri": "https://localhost:8080/"
        },
        "id": "x7tJFlq09lFM",
        "outputId": "d9200e46-68cc-40e2-c866-f8b5fa5f951e"
      },
      "execution_count": null,
      "outputs": [
        {
          "output_type": "execute_result",
          "data": {
            "text/plain": [
              "0.006494073151422373"
            ]
          },
          "metadata": {},
          "execution_count": 26
        }
      ]
    },
    {
      "cell_type": "markdown",
      "source": [
        "# **sMape**![image.png](data:image/png;base64,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)"
      ],
      "metadata": {
        "id": "vKZxgQjk97fR"
      }
    },
    {
      "cell_type": "code",
      "source": [
        "def smape(y_true, y_pred) : \n",
        "  numerator = np.abs(y_true - y_pred)\n",
        "  denominator = (np.abs(y_true) + np.abs(y_pred))/2\n",
        "  ratio = numerator / denominator\n",
        "  return ratio.mean()\n",
        "\n",
        "smape(y_true, y_pred)"
      ],
      "metadata": {
        "colab": {
          "base_uri": "https://localhost:8080/"
        },
        "id": "RRcrXyvm-ICi",
        "outputId": "eb9821dd-afee-4acf-97df-b328e1beae53"
      },
      "execution_count": null,
      "outputs": [
        {
          "output_type": "execute_result",
          "data": {
            "text/plain": [
              "0.006491365814068417"
            ]
          },
          "metadata": {},
          "execution_count": 28
        }
      ]
    }
  ]
}